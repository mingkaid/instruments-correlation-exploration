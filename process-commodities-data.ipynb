{
 "cells": [
  {
   "cell_type": "code",
   "execution_count": 1,
   "metadata": {
    "collapsed": true
   },
   "outputs": [],
   "source": [
    "import pandas as pd\n",
    "import numpy as np\n",
    "import matplotlib.pyplot as plt\n",
    "import seaborn as sns\n",
    "from IPython.display import Audio\n",
    "sound_file = './sound/beep-01a.wav'"
   ]
  },
  {
   "cell_type": "code",
   "execution_count": 2,
   "metadata": {
    "collapsed": true
   },
   "outputs": [],
   "source": [
    "# Commodities\n",
    "commodities_metadata = pd.read_csv('Commodities_metadata.csv')\n",
    "commodities_data = pd.read_csv('Commodities_data.csv')"
   ]
  },
  {
   "cell_type": "code",
   "execution_count": 5,
   "metadata": {
    "collapsed": false
   },
   "outputs": [
    {
     "name": "stdout",
     "output_type": "stream",
     "text": [
      "['BUT1_Comdty' 'C_1_COMB_Comdty' 'CC1_COMB_Comdty' 'CL1_COMB_Comdty'\n",
      " 'HG1_COMB_Comdty' 'JO1_Comdty' 'KC2_Comdty' 'LA1_Comdty' 'LH1_COMB_Comdty'\n",
      " 'LN1_Comdty' 'O_1_COMB_Comdty' 'RR1_COMB_Comdty' 'S_1_COMB_Comdty'\n",
      " 'SB1_Comdty' 'W_1_COMB_Comdty']\n"
     ]
    }
   ],
   "source": [
    "print commodities_metadata.Ticker.values\n",
    "#print commodities_data.columns.values"
   ]
  },
  {
   "cell_type": "code",
   "execution_count": 6,
   "metadata": {
    "collapsed": false,
    "scrolled": true
   },
   "outputs": [
    {
     "name": "stdout",
     "output_type": "stream",
     "text": [
      "['Ticker' 'Date' 'Open' 'High' 'Low']\n"
     ]
    }
   ],
   "source": [
    "print commodities_data.columns.values"
   ]
  },
  {
   "cell_type": "code",
   "execution_count": null,
   "metadata": {
    "collapsed": true
   },
   "outputs": [],
   "source": [
    "commodities_data[commodities_data.Ticker == '']"
   ]
  },
  {
   "cell_type": "code",
   "execution_count": null,
   "metadata": {
    "collapsed": true
   },
   "outputs": [],
   "source": [
    "# For each commodity instrument, take the series, make the date the index, and combine them into one dataframe\n",
    "df = pd.DataFrame()\n",
    "for ticker in commodities_metadata.Ticker.values:\n",
    "    ticker_data = commodities_data[commodities_data.Ticker == ticker_data]\n",
    "    ticker_data = ticker_data.set_index('Date')\n",
    "    df = df.append()"
   ]
  }
 ],
 "metadata": {
  "anaconda-cloud": {},
  "kernelspec": {
   "display_name": "Python [default]",
   "language": "python",
   "name": "python2"
  },
  "language_info": {
   "codemirror_mode": {
    "name": "ipython",
    "version": 2
   },
   "file_extension": ".py",
   "mimetype": "text/x-python",
   "name": "python",
   "nbconvert_exporter": "python",
   "pygments_lexer": "ipython2",
   "version": "2.7.12"
  }
 },
 "nbformat": 4,
 "nbformat_minor": 1
}
